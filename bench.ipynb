{
 "cells": [
  {
   "cell_type": "code",
   "execution_count": 66,
   "id": "b70cfcd6-826d-4120-a776-eca2cf89d12d",
   "metadata": {},
   "outputs": [
    {
     "name": "stdout",
     "output_type": "stream",
     "text": [
      "Applied providers: ['CPUExecutionProvider'], with options: {'CPUExecutionProvider': {}}\n",
      "find model: /home/kzoacn/.insightface/models/buffalo_l/1k3d68.onnx landmark_3d_68 ['None', 3, 192, 192] 0.0 1.0\n",
      "Applied providers: ['CPUExecutionProvider'], with options: {'CPUExecutionProvider': {}}\n",
      "find model: /home/kzoacn/.insightface/models/buffalo_l/2d106det.onnx landmark_2d_106 ['None', 3, 192, 192] 0.0 1.0\n",
      "Applied providers: ['CPUExecutionProvider'], with options: {'CPUExecutionProvider': {}}\n",
      "find model: /home/kzoacn/.insightface/models/buffalo_l/det_10g.onnx detection [1, 3, '?', '?'] 127.5 128.0\n",
      "Applied providers: ['CPUExecutionProvider'], with options: {'CPUExecutionProvider': {}}\n",
      "find model: /home/kzoacn/.insightface/models/buffalo_l/genderage.onnx genderage ['None', 3, 96, 96] 0.0 1.0\n",
      "Applied providers: ['CPUExecutionProvider'], with options: {'CPUExecutionProvider': {}}\n",
      "find model: /home/kzoacn/.insightface/models/buffalo_l/w600k_r50.onnx recognition ['None', 3, 112, 112] 127.5 127.5\n",
      "set det-size: (640, 640)\n",
      "load from cache\n"
     ]
    }
   ],
   "source": [
    "import os\n",
    "import argparse\n",
    "import cv2\n",
    "import sys\n",
    "import numpy as np\n",
    "import insightface\n",
    "from tqdm import tqdm\n",
    "from insightface.app import FaceAnalysis \n",
    "import pickle\n",
    "import time\n",
    "from leech import Leech\n",
    "import sklearn\n",
    "import math\n",
    "import numpy as np\n",
    "from sklearn.decomposition import PCA\n",
    "import matplotlib.pyplot as plt\n",
    "\n",
    "\n",
    "app = FaceAnalysis(providers=['CPUExecutionProvider'])\n",
    "\n",
    "app.prepare(ctx_id=0)\n",
    "\n",
    "#feret\n",
    "#def get_name(s):\n",
    "#    return s[:5] \n",
    "\n",
    "#lfw\n",
    "def get_name(s):\n",
    "    return s[:-9] \n",
    "\n",
    "\n",
    "def get_names_vecs(folder):\n",
    "\n",
    "    cache_file = 'embedding_'+folder\n",
    "    if os.path.exists(cache_file):\n",
    "        print('load from cache')\n",
    "        data = pickle.load(open(cache_file,'rb'))\n",
    "        names, vecs = data\n",
    "        return names, vecs \n",
    "    \n",
    "    names = []\n",
    "    vecs = []\n",
    "    name_list=[]\n",
    "    cnt=0\n",
    "    for f in os.listdir(folder):\n",
    "        if f[-3:]=='jpg':\n",
    "            name_list.append(f)\n",
    "\n",
    "    for name in tqdm(name_list):\n",
    "        img = cv2.imread(folder +'/'+ name)\n",
    "        #print(folder+name)\n",
    "        faces = app.get(img)\n",
    "        if len(faces)!=1:\n",
    "            continue\n",
    "        \n",
    "        img_embedding = faces[0].normed_embedding\n",
    "        names.append(get_name(name))\n",
    "        vecs.append(img_embedding)\n",
    "    \n",
    "    data = (names, vecs)\n",
    "    pickle.dump(data,open(cache_file,'wb'))\n",
    "    \n",
    "    return names,vecs\n",
    "\n",
    "names, vecs = get_names_vecs('feret')"
   ]
  },
  {
   "cell_type": "code",
   "execution_count": 67,
   "id": "da71fb2c-cb3c-4043-8e6a-c030136a0ec2",
   "metadata": {},
   "outputs": [],
   "source": [
    "alpha = 2**20\n",
    "\n",
    "def round(v):\n",
    "    return [int(x*alpha) for x in v]\n",
    "    \n",
    "def distance(v1,v2):\n",
    "    l=0\n",
    "    r=10\n",
    "    T=20\n",
    "    v=[]\n",
    "    for i in range(len(v1)):\n",
    "        v.append(v1[i]-v2[i])\n",
    "    \n",
    "    while len(v)%24!=0:\n",
    "        v.append(0)\n",
    "    \n",
    "    v=round(v)\n",
    "    for _ in range(T):\n",
    "        mid = (l+r)/2\n",
    "        is_left = False\n",
    "        \n",
    "        for i in range(len(v)//24):\n",
    "            z = Leech.decode(v[i*24:i*24+24],mid*alpha)\n",
    "            if z.any():\n",
    "                is_left=True\n",
    "                break\n",
    "\n",
    "        if is_left:\n",
    "            l=mid\n",
    "        else:\n",
    "            r=mid\n",
    "            \n",
    "    return l"
   ]
  },
  {
   "cell_type": "code",
   "execution_count": 68,
   "id": "707e120e-78d4-43a2-863d-44d7668fc65c",
   "metadata": {},
   "outputs": [],
   "source": [
    "#pca = PCA(n_components=24)\n",
    "#pca.fit(vecs)\n",
    "#vecs_new = pca.transform(vecs)\n"
   ]
  },
  {
   "cell_type": "code",
   "execution_count": 69,
   "id": "a5b97801-0b85-4d82-8c81-fd98dd1a92ec",
   "metadata": {},
   "outputs": [
    {
     "data": {
      "text/plain": [
       "\"\\nfor i in range(len(names)):\\n    if get_name(names[i])==get_name(names[0]):\\n        print(distance(vecs[0],vecs[i]))\\n\\nprint('-'*20)\\n\\nfor i in range(20):\\n    if get_name(names[i])!=get_name(names[0]):\\n        print(distance(vecs[0],vecs[i]))\\n\""
      ]
     },
     "execution_count": 69,
     "metadata": {},
     "output_type": "execute_result"
    }
   ],
   "source": [
    "\"\"\"\n",
    "for i in range(len(names)):\n",
    "    if get_name(names[i])==get_name(names[0]):\n",
    "        print(distance(vecs[0],vecs[i]))\n",
    "\n",
    "print('-'*20)\n",
    "\n",
    "for i in range(20):\n",
    "    if get_name(names[i])!=get_name(names[0]):\n",
    "        print(distance(vecs[0],vecs[i]))\n",
    "\"\"\""
   ]
  },
  {
   "cell_type": "code",
   "execution_count": 80,
   "id": "0c3294c1-ce91-4c60-a99b-e186b7df3061",
   "metadata": {},
   "outputs": [],
   "source": [
    "\n",
    "def read_distance(file):\n",
    "    distances = []\n",
    "    names = []\n",
    "    with open(file) as f:\n",
    "        lines = f.readlines()\n",
    "        for line in lines:\n",
    "            tokens = line.split()\n",
    "            name = tokens[0]\n",
    "            dis = [float(x) for x in tokens[1:]]\n",
    "            distances.append(dis)\n",
    "            names.append(name)\n",
    "    return names, distances\n"
   ]
  },
  {
   "cell_type": "code",
   "execution_count": 81,
   "id": "e6caad99-558a-4ef0-8228-2c89cef70ce6",
   "metadata": {},
   "outputs": [],
   "source": [
    "def get_roc(names,distances):\n",
    "\n",
    "    y_true=[]\n",
    "    y_score=[]\n",
    "    \n",
    "    for i in range(len(names)):\n",
    "        for j in range(i+1,len(names)):\n",
    "            y_true.append(1 if get_name(names[i])==get_name(names[j]) else 0)\n",
    "            y_score.append(-distances[i][j])   \n",
    "    \n",
    "    fpr, tpr, thresholds =  sklearn.metrics.roc_curve(y_true,y_score,pos_label=1)\n",
    "    #plt.plot(fpr,tpr)\n",
    "    return fpr, tpr, thresholds"
   ]
  },
  {
   "cell_type": "code",
   "execution_count": 83,
   "id": "b955df33-d486-4c84-bf2b-9755b60609bd",
   "metadata": {},
   "outputs": [
    {
     "data": {
      "text/plain": [
       "[<matplotlib.lines.Line2D at 0x7cd3b0458670>]"
      ]
     },
     "execution_count": 83,
     "metadata": {},
     "output_type": "execute_result"
    },
    {
     "data": {
      "image/png": "[encoded data removed]",
      "text/plain": [
       "<Figure size 640x480 with 1 Axes>"
      ]
     },
     "metadata": {},
     "output_type": "display_data"
    }
   ],
   "source": [
    "def crop(fpr,tpr,low=0.98,high=1):\n",
    "    new_fpr = []\n",
    "    new_tpr = []\n",
    "    for i in range(len(fpr)):\n",
    "        if tpr[i]>low and tpr[i]<high:\n",
    "           new_fpr.append(fpr[i]) \n",
    "           new_tpr.append(tpr[i])\n",
    "    return new_fpr, new_tpr\n",
    "\n",
    "\n",
    "names, distances = read_distance('distance_le_lfw')\n",
    "fpr, tpr, thresholds = get_roc(names,distances)\n",
    "fpr, tpr = crop(fpr,tpr)\n",
    "plt.plot(fpr,tpr)\n",
    "\n",
    "\n",
    "names, distances = read_distance('distance_l2_lfw')\n",
    "fpr, tpr, thresholds = get_roc(names,distances)\n",
    "fpr, tpr = crop(fpr,tpr)\n",
    "plt.plot(fpr,tpr)\n",
    "\n",
    "\n",
    "names, distances = read_distance('distance_linf_lfw')\n",
    "fpr, tpr, thresholds = get_roc(names,distances)\n",
    "fpr, tpr = crop(fpr,tpr)\n",
    "plt.plot(fpr,tpr)"
   ]
  },
  {
   "cell_type": "code",
   "execution_count": null,
   "id": "3bbcf66c-4339-4a2a-9337-ab020948f3d5",
   "metadata": {},
   "outputs": [],
   "source": []
  }
 ],
 "metadata": {
  "kernelspec": {
   "display_name": "Python 3 (ipykernel)",
   "language": "python",
   "name": "python3"
  },
  "language_info": {
   "codemirror_mode": {
    "name": "ipython",
    "version": 3
   },
   "file_extension": ".py",
   "mimetype": "text/x-python",
   "name": "python",
   "nbconvert_exporter": "python",
   "pygments_lexer": "ipython3",
   "version": "3.10.12"
  }
 },
 "nbformat": 4,
 "nbformat_minor": 5
}
