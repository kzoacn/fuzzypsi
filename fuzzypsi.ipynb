{
 "cells": [
  {
   "cell_type": "code",
   "execution_count": 1,
   "id": "889378d8-5f33-46bb-8e05-e2631799ea5e",
   "metadata": {},
   "outputs": [
    {
     "name": "stdout",
     "output_type": "stream",
     "text": [
      "Applied providers: ['CPUExecutionProvider'], with options: {'CPUExecutionProvider': {}}\n",
      "find model: /home/kzoacn/.insightface/models/buffalo_l/1k3d68.onnx landmark_3d_68 ['None', 3, 192, 192] 0.0 1.0\n",
      "Applied providers: ['CPUExecutionProvider'], with options: {'CPUExecutionProvider': {}}\n",
      "find model: /home/kzoacn/.insightface/models/buffalo_l/2d106det.onnx landmark_2d_106 ['None', 3, 192, 192] 0.0 1.0\n",
      "Applied providers: ['CPUExecutionProvider'], with options: {'CPUExecutionProvider': {}}\n",
      "find model: /home/kzoacn/.insightface/models/buffalo_l/det_10g.onnx detection [1, 3, '?', '?'] 127.5 128.0\n",
      "Applied providers: ['CPUExecutionProvider'], with options: {'CPUExecutionProvider': {}}\n",
      "find model: /home/kzoacn/.insightface/models/buffalo_l/genderage.onnx genderage ['None', 3, 96, 96] 0.0 1.0\n",
      "Applied providers: ['CPUExecutionProvider'], with options: {'CPUExecutionProvider': {}}\n",
      "find model: /home/kzoacn/.insightface/models/buffalo_l/w600k_r50.onnx recognition ['None', 3, 112, 112] 127.5 127.5\n",
      "set det-size: (640, 640)\n",
      "load from cache\n"
     ]
    }
   ],
   "source": [
    "import os\n",
    "import argparse\n",
    "import cv2\n",
    "import sys\n",
    "import numpy as np\n",
    "import insightface\n",
    "from tqdm import tqdm\n",
    "from insightface.app import FaceAnalysis \n",
    "import pickle\n",
    "import time\n",
    "from leech import Leech\n",
    "import sklearn\n",
    "import math\n",
    "import numpy as np\n",
    "from sklearn.decomposition import PCA\n",
    "import matplotlib.pyplot as plt\n",
    "\n",
    "\n",
    "app = FaceAnalysis(providers=['CPUExecutionProvider'])\n",
    "\n",
    "app.prepare(ctx_id=0)\n",
    "\n",
    "#feret\n",
    "#def get_name(s):\n",
    "#    return s[:5] \n",
    "\n",
    "#lfw\n",
    "def get_name(s):\n",
    "    return s[:-9] \n",
    "\n",
    "\n",
    "def get_names_vecs(folder):\n",
    "\n",
    "    cache_file = 'embedding_'+folder\n",
    "    if os.path.exists(cache_file):\n",
    "        print('load from cache')\n",
    "        data = pickle.load(open(cache_file,'rb'))\n",
    "        names, vecs = data\n",
    "        return names, vecs \n",
    "    \n",
    "    names = []\n",
    "    vecs = []\n",
    "    name_list=[]\n",
    "    cnt=0\n",
    "    for f in os.listdir(folder):\n",
    "        if f[-3:]=='jpg':\n",
    "            name_list.append(f)\n",
    "\n",
    "    for name in tqdm(name_list):\n",
    "        img = cv2.imread(folder +'/'+ name)\n",
    "        #print(folder+name)\n",
    "        faces = app.get(img)\n",
    "        if len(faces)!=1:\n",
    "            continue\n",
    "        \n",
    "        img_embedding = faces[0].normed_embedding\n",
    "        names.append(get_name(name))\n",
    "        vecs.append(img_embedding)\n",
    "    \n",
    "    data = (names, vecs)\n",
    "    pickle.dump(data,open(cache_file,'wb'))\n",
    "    \n",
    "    return names,vecs\n",
    "\n",
    "names, vecs = get_names_vecs('lfw')"
   ]
  },
  {
   "cell_type": "code",
   "execution_count": 2,
   "id": "af2dd81c-e4ba-4795-ac19-bbffd40a0b89",
   "metadata": {},
   "outputs": [],
   "source": [
    "import random\n",
    "import numpy as np\n",
    "random.seed(12345)"
   ]
  },
  {
   "cell_type": "code",
   "execution_count": 3,
   "id": "32b61980-8f1e-4b40-a5a2-4820a06ab486",
   "metadata": {},
   "outputs": [
    {
     "name": "stdout",
     "output_type": "stream",
     "text": [
      "6825 Roger_Federer\n"
     ]
    }
   ],
   "source": [
    "q = random.choice(range(len(names)))\n",
    "print(q,names[q])"
   ]
  },
  {
   "cell_type": "code",
   "execution_count": 4,
   "id": "53055c05-b152-4926-8a5c-fb1269563da1",
   "metadata": {},
   "outputs": [],
   "source": [
    "alpha = 2**20\n",
    "\n",
    "def round(v):\n",
    "    return [int(x*alpha) for x in v]\n",
    "\n",
    "def padding(v):\n",
    "    v=list(v.copy())\n",
    "    while len(v)%24!=0:\n",
    "        v.append(0)\n",
    "    return np.array(v)\n",
    "    \n",
    "def decode_h(v,t):\n",
    "\n",
    "    \n",
    "    v=padding(v)\n",
    "    \n",
    "    v=round(v)\n",
    "\n",
    "    ds = []\n",
    "    os = []\n",
    "    for i in range(len(v)//24):\n",
    "        sub_v = v[i*24:i*24+24]\n",
    "        decoded = Leech.decode(sub_v,t*alpha)\n",
    "        offset = np.array(sub_v) - np.array(decoded)\n",
    "\n",
    "        ds.append(decoded)\n",
    "        os.append(offset)\n",
    "    return np.concatenate(ds), np.concatenate(os)\n",
    "    \n",
    "    "
   ]
  },
  {
   "cell_type": "code",
   "execution_count": 5,
   "id": "fefca46b-bbe7-47d0-90c0-a6152d07815f",
   "metadata": {},
   "outputs": [],
   "source": [
    "point, offset = decode_h(vecs[q],0.08)"
   ]
  },
  {
   "cell_type": "code",
   "execution_count": 6,
   "id": "150f5367-58ca-4d26-9ac0-348eb7579c6e",
   "metadata": {},
   "outputs": [
    {
     "name": "stderr",
     "output_type": "stream",
     "text": [
      "100%|████████████████████████████████| 10616/10616 [00:00<00:00, 5644154.05it/s]"
     ]
    },
    {
     "name": "stdout",
     "output_type": "stream",
     "text": [
      "ground_truth True\n"
     ]
    },
    {
     "name": "stderr",
     "output_type": "stream",
     "text": [
      "\n",
      "100%|█████████████████████████████████████| 10616/10616 [46:30<00:00,  3.80it/s]\n"
     ]
    }
   ],
   "source": [
    "from multiprocessing import Pool\n",
    "ground_truth = False\n",
    "for i in tqdm(range(len(names))):\n",
    "    if i!=q and names[i]==names[q]:\n",
    "        ground_truth = True\n",
    "\n",
    "print('ground_truth',ground_truth)\n",
    "\n",
    "def work(vec):\n",
    "    p,_ = decode_h(padding(vec) - offset/alpha ,0.08)\n",
    "    return p\n",
    "    \n",
    "\n",
    "with Pool(16) as p:\n",
    "    r = list(tqdm(p.imap(work, vecs), total=len(vecs)))"
   ]
  },
  {
   "cell_type": "code",
   "execution_count": 7,
   "id": "09a77344-d729-4e23-b156-02d68cce52c9",
   "metadata": {},
   "outputs": [],
   "source": [
    "import hashlib\n"
   ]
  },
  {
   "cell_type": "code",
   "execution_count": 10,
   "id": "211f703e-692b-4edb-b085-6457a9ac6afd",
   "metadata": {},
   "outputs": [],
   "source": [
    "psi_query = hashlib.sha256(point).hexdigest()"
   ]
  },
  {
   "cell_type": "code",
   "execution_count": 12,
   "id": "3a784bab-d036-4759-a6f0-237f54ca1a0a",
   "metadata": {},
   "outputs": [],
   "source": [
    "psi_data=[]\n",
    "for i in range(len(names)):\n",
    "    if i==q:\n",
    "        continue\n",
    "    h = hashlib.sha256(r[i]).hexdigest()\n",
    "    psi_data.append(h)"
   ]
  },
  {
   "cell_type": "code",
   "execution_count": 13,
   "id": "83c40804-d63a-4eb9-b20b-62004241d0f5",
   "metadata": {},
   "outputs": [],
   "source": [
    "with open('psi_query.csv','w') as f:\n",
    "    f.write(psi_query)\n",
    "\n",
    "with open('psi_data.csv','w') as f:\n",
    "    for h in psi_data:\n",
    "        f.write(h+'\\n')\n"
   ]
  },
  {
   "cell_type": "code",
   "execution_count": 14,
   "id": "15b6ca89-7e56-4a96-833b-471e08f6b18d",
   "metadata": {},
   "outputs": [],
   "source": [
    "import subprocess\n"
   ]
  },
  {
   "cell_type": "code",
   "execution_count": 15,
   "id": "3b341d13-40e2-41e6-b01f-65741ab0a425",
   "metadata": {},
   "outputs": [
    {
     "data": {
      "text/plain": [
       "CompletedProcess(args=['bash', 'run_psi.sh'], returncode=0)"
      ]
     },
     "execution_count": 15,
     "metadata": {},
     "output_type": "execute_result"
    },
    {
     "name": "stdout",
     "output_type": "stream",
     "text": [
      "reading set... reading set... 0ms\n",
      "connecting as server at address localhost:12122ms\n",
      "connecting as client at address localhost:1212 2ms\n",
      "Validating set sizes...  0ms\n",
      "Validating set sizes... 0ms\n",
      "running PSI... 0ms\n",
      "running PSI... 32ms\n",
      "Done\n",
      "32ms\n",
      "Writing output to ./psi_query.csv.out 0ms\n",
      "intesection_size = 15\n"
     ]
    }
   ],
   "source": [
    "subprocess.run('bash run_psi.sh'.split())"
   ]
  },
  {
   "cell_type": "code",
   "execution_count": null,
   "id": "7f61f525-a7d4-4e1b-8a59-30796f11eeae",
   "metadata": {},
   "outputs": [],
   "source": []
  }
 ],
 "metadata": {
  "kernelspec": {
   "display_name": "Python 3 (ipykernel)",
   "language": "python",
   "name": "python3"
  },
  "language_info": {
   "codemirror_mode": {
    "name": "ipython",
    "version": 3
   },
   "file_extension": ".py",
   "mimetype": "text/x-python",
   "name": "python",
   "nbconvert_exporter": "python",
   "pygments_lexer": "ipython3",
   "version": "3.10.12"
  }
 },
 "nbformat": 4,
 "nbformat_minor": 5
}
